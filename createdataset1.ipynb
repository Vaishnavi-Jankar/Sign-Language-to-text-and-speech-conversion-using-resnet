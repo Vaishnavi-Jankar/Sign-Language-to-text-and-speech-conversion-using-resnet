{
 "cells": [
  {
   "cell_type": "code",
   "execution_count": 1,
   "id": "7a784581-da56-40b2-8dfe-a1af94cd2d06",
   "metadata": {},
   "outputs": [
    {
     "name": "stdout",
     "output_type": "stream",
     "text": [
      "Dataset created with 300 samples.\n"
     ]
    }
   ],
   "source": [
    "import os\n",
    "import cv2\n",
    "import numpy as np\n",
    "from tensorflow.keras.applications.resnet50 import preprocess_input\n",
    "\n",
    "DATA_DIR = './data'\n",
    "number_of_classes = 3\n",
    "IMG_SIZE = 224  # ResNet50 expects 224x224 input images\n",
    "\n",
    "data = []\n",
    "labels = []\n",
    "\n",
    "for i in range(number_of_classes):\n",
    "    class_dir = os.path.join(DATA_DIR, str(i))\n",
    "    for img_name in os.listdir(class_dir):\n",
    "        img_path = os.path.join(class_dir, img_name)\n",
    "        img = cv2.imread(img_path)\n",
    "        if img is not None:\n",
    "            # Resize and preprocess image for ResNet50\n",
    "            img = cv2.resize(img, (IMG_SIZE, IMG_SIZE))\n",
    "            img = preprocess_input(img)  # preprocess for ResNet50\n",
    "            data.append(img)\n",
    "            labels.append(i)\n",
    "\n",
    "data = np.array(data)\n",
    "labels = np.array(labels)\n",
    "\n",
    "# Save the data and labels to a file\n",
    "import pickle\n",
    "with open('data_resnet50.pickle', 'wb') as f:\n",
    "    pickle.dump({'data': data, 'labels': labels}, f)\n",
    "\n",
    "print(f\"Dataset created with {len(data)} samples.\")\n"
   ]
  },
  {
   "cell_type": "code",
   "execution_count": null,
   "id": "9f01f1ef-5e92-42b0-8f02-ad9383f4d37d",
   "metadata": {},
   "outputs": [],
   "source": []
  }
 ],
 "metadata": {
  "kernelspec": {
   "display_name": "Python 3 (ipykernel)",
   "language": "python",
   "name": "python3"
  },
  "language_info": {
   "codemirror_mode": {
    "name": "ipython",
    "version": 3
   },
   "file_extension": ".py",
   "mimetype": "text/x-python",
   "name": "python",
   "nbconvert_exporter": "python",
   "pygments_lexer": "ipython3",
   "version": "3.12.3"
  }
 },
 "nbformat": 4,
 "nbformat_minor": 5
}
